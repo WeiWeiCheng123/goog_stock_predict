{
  "nbformat": 4,
  "nbformat_minor": 0,
  "metadata": {
    "interpreter": {
      "hash": "4617e2f938c58cce04089e6cfece455e3dab2db4f3f92c1b0f9792c6c6d95434"
    },
    "kernelspec": {
      "display_name": "Python 3.9.6 64-bit",
      "name": "python3"
    },
    "language_info": {
      "codemirror_mode": {
        "name": "ipython",
        "version": 3
      },
      "file_extension": ".py",
      "mimetype": "text/x-python",
      "name": "python",
      "nbconvert_exporter": "python",
      "pygments_lexer": "ipython3",
      "version": "3.9.6"
    },
    "orig_nbformat": 4,
    "colab": {
      "name": "predict_model.ipynb",
      "provenance": []
    },
    "accelerator": "GPU"
  },
  "cells": [
    {
      "cell_type": "markdown",
      "metadata": {
        "id": "CsUstTPRpQ2-"
      },
      "source": [
        "# Using google stock price as data"
      ]
    },
    {
      "cell_type": "code",
      "metadata": {
        "id": "Sz7mEwBUpQ3A"
      },
      "source": [
        "import pandas as pd\n",
        "import numpy as np\n",
        "import sklearn\n",
        "import matplotlib.pyplot as plt\n",
        "from tensorflow.keras.models import Sequential\n",
        "from tensorflow.keras.layers import Dense, Dropout, LSTM"
      ],
      "execution_count": 57,
      "outputs": []
    },
    {
      "cell_type": "markdown",
      "metadata": {
        "id": "9WhjT1HZpQ3B"
      },
      "source": [
        "# Split and process data\n",
        "2010 - 2020 is training data\n",
        "2021 is testing data"
      ]
    },
    {
      "cell_type": "code",
      "metadata": {
        "id": "cXnWOm0GpQ3C"
      },
      "source": [
        "train_df = pd.read_csv('train.csv')\n",
        "test_df = pd.read_csv('test.csv')\n",
        "del train_df['Date']\n",
        "del train_df['Adj Close']\n",
        "del test_df['Date']\n",
        "del test_df['Adj Close']"
      ],
      "execution_count": 58,
      "outputs": []
    },
    {
      "cell_type": "code",
      "metadata": {
        "id": "4PvvtiBipQ3C"
      },
      "source": [
        "def normalize(data):\n",
        "  norm_data = data.apply(lambda x: (x - np.mean(x)) / (np.max(x) - np.min(x)))\n",
        "  return norm_data"
      ],
      "execution_count": 59,
      "outputs": []
    },
    {
      "cell_type": "code",
      "metadata": {
        "id": "kUT8XfMRpQ3D"
      },
      "source": [
        "def split(df, ref_day = 4, predict_day=1):\n",
        "    x, y = [], []\n",
        "    i = 0\n",
        "    while(i<df.shape[0]-ref_day):\n",
        "        x.append(np.array(df.iloc[i:i+ref_day]))\n",
        "        y.append(np.array(df.iloc[i+ref_day:i+ref_day+predict_day]['Close']).tolist())\n",
        "        i = i+ref_day+predict_day\n",
        "    return np.array(x), np.array(y)"
      ],
      "execution_count": 60,
      "outputs": []
    },
    {
      "cell_type": "code",
      "metadata": {
        "id": "SmJFfoMIpQ3D"
      },
      "source": [
        "train_norm = normalize(train_df)\n",
        "test_norm = normalize(test_df)"
      ],
      "execution_count": 61,
      "outputs": []
    },
    {
      "cell_type": "code",
      "metadata": {
        "id": "0MrjzpU6pQ3D"
      },
      "source": [
        "train_x,train_y=split(train_norm) #x為第1~4天的股價 y為第5天的收盤價\n",
        "test_x,test_y=split(test_norm)"
      ],
      "execution_count": 62,
      "outputs": []
    },
    {
      "cell_type": "code",
      "metadata": {
        "colab": {
          "base_uri": "https://localhost:8080/"
        },
        "id": "epuFyoxJpQ3E",
        "outputId": "5cb37288-c955-4bfb-ae3f-a26e59267b83"
      },
      "source": [
        "print('train shape:',train_x.shape,'\\n','train feature:',train_x[0],'\\n','train label:',train_y[0])\n",
        "print('test shape:',test_x.shape,'\\n','test feature:',test_x[0],'\\n','test label:',test_y[0])"
      ],
      "execution_count": 63,
      "outputs": [
        {
          "output_type": "stream",
          "name": "stdout",
          "text": [
            "train shape: (553, 4, 5) \n",
            " train feature: [[-0.25397677 -0.25405098 -0.25059085 -0.25344183  0.02539711]\n",
            " [-0.25390544 -0.25456231 -0.25142798 -0.25429536  0.09614202]\n",
            " [-0.25431482 -0.25516856 -0.25613446 -0.25915989  0.16186021]\n",
            " [-0.25941964 -0.26002471 -0.26038519 -0.26353889  0.32619624]] \n",
            " train label: [-0.26108961]\n",
            "test shape: (41, 4, 5) \n",
            " test feature: [[-0.5395242  -0.56793844 -0.5660692  -0.57925731  0.17214535]\n",
            " [-0.56627618 -0.57885755 -0.55769112 -0.56858926 -0.04249904]\n",
            " [-0.58466711 -0.57857998 -0.5733634  -0.57332593  0.37078928]\n",
            " [-0.55389493 -0.5445944  -0.54200235 -0.52961067  0.27515536]] \n",
            " test label: [-0.51281783]\n"
          ]
        }
      ]
    },
    {
      "cell_type": "code",
      "metadata": {
        "id": "ngGU68dGpQ3F"
      },
      "source": [
        "VAL_RATIO = 0.2\n",
        "\n",
        "percent = int(train_x.shape[0] * (1 - VAL_RATIO))\n",
        "train_x, train_y, val_x, val_y = train_x[:percent], train_y[:percent], train_x[percent:], train_y[percent:]"
      ],
      "execution_count": 64,
      "outputs": []
    },
    {
      "cell_type": "code",
      "metadata": {
        "colab": {
          "base_uri": "https://localhost:8080/"
        },
        "id": "ODOQUkoUpQ3F",
        "outputId": "966ebb67-da98-4e1a-e8e8-c3f43815e84f"
      },
      "source": [
        "print('train shape:',train_x.shape)\n",
        "print('val shape:',val_x.shape)"
      ],
      "execution_count": 65,
      "outputs": [
        {
          "output_type": "stream",
          "name": "stdout",
          "text": [
            "train shape: (442, 4, 5)\n",
            "val shape: (111, 4, 5)\n"
          ]
        }
      ]
    },
    {
      "cell_type": "code",
      "metadata": {
        "id": "iIJKwaMspQ3G"
      },
      "source": [
        "train_x = train_x.reshape(442,20,1)\n",
        "val_x = val_x.reshape(111,20,1)\n",
        "test_x = test_x.reshape(41,20,1)"
      ],
      "execution_count": 66,
      "outputs": []
    },
    {
      "cell_type": "code",
      "metadata": {
        "colab": {
          "base_uri": "https://localhost:8080/"
        },
        "id": "1AgiSwMrpQ3G",
        "outputId": "8591bec8-66ea-477d-e0f7-173f09609ac1"
      },
      "source": [
        "train_x.shape,train_y.shape"
      ],
      "execution_count": 67,
      "outputs": [
        {
          "output_type": "execute_result",
          "data": {
            "text/plain": [
              "((442, 20, 1), (442, 1))"
            ]
          },
          "metadata": {},
          "execution_count": 67
        }
      ]
    },
    {
      "cell_type": "markdown",
      "metadata": {
        "id": "sj1eULvCNA68"
      },
      "source": [
        "#Model"
      ]
    },
    {
      "cell_type": "code",
      "metadata": {
        "colab": {
          "base_uri": "https://localhost:8080/"
        },
        "id": "3ShlwX-Brtuh",
        "outputId": "88906f69-76c9-418f-e398-64c6945b3790"
      },
      "source": [
        "from keras.models import Sequential\n",
        "from keras.layers import Dense\n",
        "from keras.layers import LSTM\n",
        "from keras.layers import Dropout\n",
        "model = Sequential()\n",
        "\n",
        "model.add(LSTM(units = 50, return_sequences = True, input_shape = (train_x.shape[1], 1)))\n",
        "model.add(Dropout(0.2))\n",
        "\n",
        "model.add(LSTM(units = 50, return_sequences = True))\n",
        "model.add(Dropout(0.2))\n",
        "\n",
        "model.add(LSTM(units = 50, return_sequences = True))\n",
        "model.add(Dropout(0.2))\n",
        "\n",
        "model.add(LSTM(units = 50))\n",
        "model.add(Dropout(0.2))\n",
        "\n",
        "model.add(Dense(units = 50))\n",
        "\n",
        "model.add(Dense(units = 1))\n",
        "model.compile(optimizer = 'adam', loss = 'mean_squared_error')\n",
        "model.summary()"
      ],
      "execution_count": 99,
      "outputs": [
        {
          "output_type": "stream",
          "name": "stdout",
          "text": [
            "Model: \"sequential_5\"\n",
            "_________________________________________________________________\n",
            "Layer (type)                 Output Shape              Param #   \n",
            "=================================================================\n",
            "lstm_16 (LSTM)               (None, 20, 50)            10400     \n",
            "_________________________________________________________________\n",
            "dropout_16 (Dropout)         (None, 20, 50)            0         \n",
            "_________________________________________________________________\n",
            "lstm_17 (LSTM)               (None, 20, 50)            20200     \n",
            "_________________________________________________________________\n",
            "dropout_17 (Dropout)         (None, 20, 50)            0         \n",
            "_________________________________________________________________\n",
            "lstm_18 (LSTM)               (None, 20, 50)            20200     \n",
            "_________________________________________________________________\n",
            "dropout_18 (Dropout)         (None, 20, 50)            0         \n",
            "_________________________________________________________________\n",
            "lstm_19 (LSTM)               (None, 50)                20200     \n",
            "_________________________________________________________________\n",
            "dropout_19 (Dropout)         (None, 50)                0         \n",
            "_________________________________________________________________\n",
            "dense_4 (Dense)              (None, 50)                2550      \n",
            "_________________________________________________________________\n",
            "dense_5 (Dense)              (None, 1)                 51        \n",
            "=================================================================\n",
            "Total params: 73,601\n",
            "Trainable params: 73,601\n",
            "Non-trainable params: 0\n",
            "_________________________________________________________________\n"
          ]
        }
      ]
    },
    {
      "cell_type": "code",
      "metadata": {
        "colab": {
          "base_uri": "https://localhost:8080/"
        },
        "id": "mdSS5odKvtSQ",
        "outputId": "f618a368-c9c8-4270-a024-86c3f387acd7"
      },
      "source": [
        "train_history=model.fit(train_x, train_y, validation_data=(val_x, val_y), epochs = 100, batch_size = 16)"
      ],
      "execution_count": 100,
      "outputs": [
        {
          "output_type": "stream",
          "name": "stdout",
          "text": [
            "Epoch 1/100\n",
            "28/28 [==============================] - 9s 87ms/step - loss: 0.0066 - val_loss: 0.0014\n",
            "Epoch 2/100\n",
            "28/28 [==============================] - 1s 29ms/step - loss: 0.0014 - val_loss: 0.0017\n",
            "Epoch 3/100\n",
            "28/28 [==============================] - 1s 29ms/step - loss: 8.2859e-04 - val_loss: 6.9618e-04\n",
            "Epoch 4/100\n",
            "28/28 [==============================] - 1s 29ms/step - loss: 9.0956e-04 - val_loss: 0.0012\n",
            "Epoch 5/100\n",
            "28/28 [==============================] - 1s 29ms/step - loss: 8.8231e-04 - val_loss: 0.0014\n",
            "Epoch 6/100\n",
            "28/28 [==============================] - 1s 29ms/step - loss: 7.4618e-04 - val_loss: 0.0023\n",
            "Epoch 7/100\n",
            "28/28 [==============================] - 1s 29ms/step - loss: 8.1243e-04 - val_loss: 0.0025\n",
            "Epoch 8/100\n",
            "28/28 [==============================] - 1s 29ms/step - loss: 8.0647e-04 - val_loss: 9.6139e-04\n",
            "Epoch 9/100\n",
            "28/28 [==============================] - 1s 29ms/step - loss: 0.0010 - val_loss: 0.0023\n",
            "Epoch 10/100\n",
            "28/28 [==============================] - 1s 29ms/step - loss: 0.0010 - val_loss: 0.0032\n",
            "Epoch 11/100\n",
            "28/28 [==============================] - 1s 29ms/step - loss: 7.4400e-04 - val_loss: 8.7364e-04\n",
            "Epoch 12/100\n",
            "28/28 [==============================] - 1s 29ms/step - loss: 7.2248e-04 - val_loss: 7.2138e-04\n",
            "Epoch 13/100\n",
            "28/28 [==============================] - 1s 29ms/step - loss: 7.6863e-04 - val_loss: 8.4755e-04\n",
            "Epoch 14/100\n",
            "28/28 [==============================] - 1s 29ms/step - loss: 8.4100e-04 - val_loss: 7.0873e-04\n",
            "Epoch 15/100\n",
            "28/28 [==============================] - 1s 29ms/step - loss: 7.6213e-04 - val_loss: 0.0016\n",
            "Epoch 16/100\n",
            "28/28 [==============================] - 1s 29ms/step - loss: 6.3108e-04 - val_loss: 6.1350e-04\n",
            "Epoch 17/100\n",
            "28/28 [==============================] - 1s 29ms/step - loss: 7.7616e-04 - val_loss: 0.0061\n",
            "Epoch 18/100\n",
            "28/28 [==============================] - 1s 29ms/step - loss: 7.8499e-04 - val_loss: 0.0010\n",
            "Epoch 19/100\n",
            "28/28 [==============================] - 1s 29ms/step - loss: 7.0392e-04 - val_loss: 0.0039\n",
            "Epoch 20/100\n",
            "28/28 [==============================] - 1s 29ms/step - loss: 7.1767e-04 - val_loss: 0.0011\n",
            "Epoch 21/100\n",
            "28/28 [==============================] - 1s 29ms/step - loss: 8.1186e-04 - val_loss: 9.5506e-04\n",
            "Epoch 22/100\n",
            "28/28 [==============================] - 1s 28ms/step - loss: 7.3236e-04 - val_loss: 0.0059\n",
            "Epoch 23/100\n",
            "28/28 [==============================] - 1s 29ms/step - loss: 8.0217e-04 - val_loss: 0.0014\n",
            "Epoch 24/100\n",
            "28/28 [==============================] - 1s 29ms/step - loss: 6.1228e-04 - val_loss: 0.0015\n",
            "Epoch 25/100\n",
            "28/28 [==============================] - 1s 29ms/step - loss: 6.0116e-04 - val_loss: 9.1437e-04\n",
            "Epoch 26/100\n",
            "28/28 [==============================] - 1s 29ms/step - loss: 6.2687e-04 - val_loss: 0.0012\n",
            "Epoch 27/100\n",
            "28/28 [==============================] - 1s 29ms/step - loss: 6.1712e-04 - val_loss: 9.7733e-04\n",
            "Epoch 28/100\n",
            "28/28 [==============================] - 1s 30ms/step - loss: 8.0634e-04 - val_loss: 0.0024\n",
            "Epoch 29/100\n",
            "28/28 [==============================] - 1s 29ms/step - loss: 8.0256e-04 - val_loss: 0.0097\n",
            "Epoch 30/100\n",
            "28/28 [==============================] - 1s 29ms/step - loss: 9.9986e-04 - val_loss: 0.0013\n",
            "Epoch 31/100\n",
            "28/28 [==============================] - 1s 29ms/step - loss: 6.5159e-04 - val_loss: 0.0017\n",
            "Epoch 32/100\n",
            "28/28 [==============================] - 1s 29ms/step - loss: 8.4995e-04 - val_loss: 0.0022\n",
            "Epoch 33/100\n",
            "28/28 [==============================] - 1s 29ms/step - loss: 7.5751e-04 - val_loss: 0.0090\n",
            "Epoch 34/100\n",
            "28/28 [==============================] - 1s 30ms/step - loss: 8.1192e-04 - val_loss: 0.0015\n",
            "Epoch 35/100\n",
            "28/28 [==============================] - 1s 29ms/step - loss: 8.0242e-04 - val_loss: 0.0012\n",
            "Epoch 36/100\n",
            "28/28 [==============================] - 1s 29ms/step - loss: 7.1440e-04 - val_loss: 0.0025\n",
            "Epoch 37/100\n",
            "28/28 [==============================] - 1s 29ms/step - loss: 7.0308e-04 - val_loss: 0.0022\n",
            "Epoch 38/100\n",
            "28/28 [==============================] - 1s 28ms/step - loss: 8.1112e-04 - val_loss: 7.5257e-04\n",
            "Epoch 39/100\n",
            "28/28 [==============================] - 1s 29ms/step - loss: 7.8668e-04 - val_loss: 6.8122e-04\n",
            "Epoch 40/100\n",
            "28/28 [==============================] - 1s 29ms/step - loss: 6.6018e-04 - val_loss: 6.1921e-04\n",
            "Epoch 41/100\n",
            "28/28 [==============================] - 1s 29ms/step - loss: 8.4435e-04 - val_loss: 0.0020\n",
            "Epoch 42/100\n",
            "28/28 [==============================] - 1s 29ms/step - loss: 6.9629e-04 - val_loss: 0.0014\n",
            "Epoch 43/100\n",
            "28/28 [==============================] - 1s 29ms/step - loss: 6.9817e-04 - val_loss: 6.9998e-04\n",
            "Epoch 44/100\n",
            "28/28 [==============================] - 1s 29ms/step - loss: 6.2048e-04 - val_loss: 0.0012\n",
            "Epoch 45/100\n",
            "28/28 [==============================] - 1s 29ms/step - loss: 6.7722e-04 - val_loss: 7.6147e-04\n",
            "Epoch 46/100\n",
            "28/28 [==============================] - 1s 29ms/step - loss: 6.7303e-04 - val_loss: 8.7343e-04\n",
            "Epoch 47/100\n",
            "28/28 [==============================] - 1s 29ms/step - loss: 6.9206e-04 - val_loss: 0.0011\n",
            "Epoch 48/100\n",
            "28/28 [==============================] - 1s 29ms/step - loss: 6.0967e-04 - val_loss: 0.0046\n",
            "Epoch 49/100\n",
            "28/28 [==============================] - 1s 29ms/step - loss: 7.7613e-04 - val_loss: 0.0013\n",
            "Epoch 50/100\n",
            "28/28 [==============================] - 1s 29ms/step - loss: 6.6109e-04 - val_loss: 7.3982e-04\n",
            "Epoch 51/100\n",
            "28/28 [==============================] - 1s 29ms/step - loss: 6.6755e-04 - val_loss: 0.0012\n",
            "Epoch 52/100\n",
            "28/28 [==============================] - 1s 29ms/step - loss: 5.6519e-04 - val_loss: 8.3084e-04\n",
            "Epoch 53/100\n",
            "28/28 [==============================] - 1s 29ms/step - loss: 6.9116e-04 - val_loss: 0.0011\n",
            "Epoch 54/100\n",
            "28/28 [==============================] - 1s 29ms/step - loss: 6.4142e-04 - val_loss: 0.0010\n",
            "Epoch 55/100\n",
            "28/28 [==============================] - 1s 30ms/step - loss: 5.8440e-04 - val_loss: 0.0024\n",
            "Epoch 56/100\n",
            "28/28 [==============================] - 1s 29ms/step - loss: 5.7659e-04 - val_loss: 0.0014\n",
            "Epoch 57/100\n",
            "28/28 [==============================] - 1s 29ms/step - loss: 8.4897e-04 - val_loss: 9.9911e-04\n",
            "Epoch 58/100\n",
            "28/28 [==============================] - 1s 29ms/step - loss: 8.2176e-04 - val_loss: 0.0018\n",
            "Epoch 59/100\n",
            "28/28 [==============================] - 1s 29ms/step - loss: 6.4850e-04 - val_loss: 0.0014\n",
            "Epoch 60/100\n",
            "28/28 [==============================] - 1s 29ms/step - loss: 5.6591e-04 - val_loss: 0.0014\n",
            "Epoch 61/100\n",
            "28/28 [==============================] - 1s 29ms/step - loss: 7.2095e-04 - val_loss: 0.0015\n",
            "Epoch 62/100\n",
            "28/28 [==============================] - 1s 29ms/step - loss: 6.8311e-04 - val_loss: 0.0034\n",
            "Epoch 63/100\n",
            "28/28 [==============================] - 1s 29ms/step - loss: 9.2463e-04 - val_loss: 7.5227e-04\n",
            "Epoch 64/100\n",
            "28/28 [==============================] - 1s 29ms/step - loss: 6.5596e-04 - val_loss: 0.0012\n",
            "Epoch 65/100\n",
            "28/28 [==============================] - 1s 29ms/step - loss: 6.1590e-04 - val_loss: 0.0021\n",
            "Epoch 66/100\n",
            "28/28 [==============================] - 1s 29ms/step - loss: 5.8812e-04 - val_loss: 8.9205e-04\n",
            "Epoch 67/100\n",
            "28/28 [==============================] - 1s 29ms/step - loss: 6.3899e-04 - val_loss: 0.0037\n",
            "Epoch 68/100\n",
            "28/28 [==============================] - 1s 29ms/step - loss: 6.2962e-04 - val_loss: 6.8166e-04\n",
            "Epoch 69/100\n",
            "28/28 [==============================] - 1s 29ms/step - loss: 7.3194e-04 - val_loss: 0.0021\n",
            "Epoch 70/100\n",
            "28/28 [==============================] - 1s 29ms/step - loss: 7.3681e-04 - val_loss: 0.0012\n",
            "Epoch 71/100\n",
            "28/28 [==============================] - 1s 29ms/step - loss: 5.5854e-04 - val_loss: 0.0018\n",
            "Epoch 72/100\n",
            "28/28 [==============================] - 1s 29ms/step - loss: 6.3189e-04 - val_loss: 0.0017\n",
            "Epoch 73/100\n",
            "28/28 [==============================] - 1s 29ms/step - loss: 5.2058e-04 - val_loss: 9.7025e-04\n",
            "Epoch 74/100\n",
            "28/28 [==============================] - 1s 29ms/step - loss: 7.0956e-04 - val_loss: 0.0057\n",
            "Epoch 75/100\n",
            "28/28 [==============================] - 1s 29ms/step - loss: 5.7045e-04 - val_loss: 0.0010\n",
            "Epoch 76/100\n",
            "28/28 [==============================] - 1s 29ms/step - loss: 5.1846e-04 - val_loss: 0.0023\n",
            "Epoch 77/100\n",
            "28/28 [==============================] - 1s 29ms/step - loss: 6.4669e-04 - val_loss: 0.0035\n",
            "Epoch 78/100\n",
            "28/28 [==============================] - 1s 29ms/step - loss: 5.3744e-04 - val_loss: 0.0011\n",
            "Epoch 79/100\n",
            "28/28 [==============================] - 1s 30ms/step - loss: 5.9067e-04 - val_loss: 0.0066\n",
            "Epoch 80/100\n",
            "28/28 [==============================] - 1s 30ms/step - loss: 5.6414e-04 - val_loss: 0.0012\n",
            "Epoch 81/100\n",
            "28/28 [==============================] - 1s 29ms/step - loss: 5.8719e-04 - val_loss: 0.0010\n",
            "Epoch 82/100\n",
            "28/28 [==============================] - 1s 29ms/step - loss: 5.0809e-04 - val_loss: 0.0025\n",
            "Epoch 83/100\n",
            "28/28 [==============================] - 1s 29ms/step - loss: 6.0031e-04 - val_loss: 7.4590e-04\n",
            "Epoch 84/100\n",
            "28/28 [==============================] - 1s 29ms/step - loss: 5.2193e-04 - val_loss: 0.0041\n",
            "Epoch 85/100\n",
            "28/28 [==============================] - 1s 29ms/step - loss: 6.1076e-04 - val_loss: 5.9180e-04\n",
            "Epoch 86/100\n",
            "28/28 [==============================] - 1s 29ms/step - loss: 6.0069e-04 - val_loss: 0.0019\n",
            "Epoch 87/100\n",
            "28/28 [==============================] - 1s 29ms/step - loss: 5.4913e-04 - val_loss: 0.0020\n",
            "Epoch 88/100\n",
            "28/28 [==============================] - 1s 29ms/step - loss: 5.7970e-04 - val_loss: 0.0023\n",
            "Epoch 89/100\n",
            "28/28 [==============================] - 1s 30ms/step - loss: 4.7617e-04 - val_loss: 0.0015\n",
            "Epoch 90/100\n",
            "28/28 [==============================] - 1s 29ms/step - loss: 5.7290e-04 - val_loss: 8.6775e-04\n",
            "Epoch 91/100\n",
            "28/28 [==============================] - 1s 29ms/step - loss: 5.0230e-04 - val_loss: 0.0023\n",
            "Epoch 92/100\n",
            "28/28 [==============================] - 1s 29ms/step - loss: 8.9338e-04 - val_loss: 0.0018\n",
            "Epoch 93/100\n",
            "28/28 [==============================] - 1s 29ms/step - loss: 5.8168e-04 - val_loss: 0.0037\n",
            "Epoch 94/100\n",
            "28/28 [==============================] - 1s 29ms/step - loss: 5.6816e-04 - val_loss: 7.9000e-04\n",
            "Epoch 95/100\n",
            "28/28 [==============================] - 1s 29ms/step - loss: 4.2756e-04 - val_loss: 9.5176e-04\n",
            "Epoch 96/100\n",
            "28/28 [==============================] - 1s 29ms/step - loss: 4.4982e-04 - val_loss: 0.0024\n",
            "Epoch 97/100\n",
            "28/28 [==============================] - 1s 29ms/step - loss: 6.1143e-04 - val_loss: 7.0024e-04\n",
            "Epoch 98/100\n",
            "28/28 [==============================] - 1s 29ms/step - loss: 5.1541e-04 - val_loss: 0.0010\n",
            "Epoch 99/100\n",
            "28/28 [==============================] - 1s 29ms/step - loss: 4.7563e-04 - val_loss: 0.0040\n",
            "Epoch 100/100\n",
            "28/28 [==============================] - 1s 29ms/step - loss: 3.8131e-04 - val_loss: 0.0029\n"
          ]
        }
      ]
    },
    {
      "cell_type": "code",
      "metadata": {
        "id": "a2-whBfSxrsE"
      },
      "source": [
        "import matplotlib.pyplot as plt\n",
        "def show_train_history(train_history,train,validation):\n",
        "    plt.plot(train_history.history[train])\n",
        "    plt.plot(train_history.history[validation])\n",
        "    plt.title('Train History')\n",
        "    plt.ylabel(train)\n",
        "    plt.xlabel('Epoch')\n",
        "    plt.legend(['train', 'validation'], loc='lower right')\n",
        "    plt.show()"
      ],
      "execution_count": 101,
      "outputs": []
    },
    {
      "cell_type": "code",
      "metadata": {
        "colab": {
          "base_uri": "https://localhost:8080/",
          "height": 295
        },
        "id": "oAvLLTC7xvKJ",
        "outputId": "f7381b79-c935-42cc-df99-6f71e1046114"
      },
      "source": [
        "show_train_history(train_history,'loss','val_loss')"
      ],
      "execution_count": 102,
      "outputs": [
        {
          "output_type": "display_data",
          "data": {
            "image/png": "[encoded data removed]",
            "text/plain": [
              "<Figure size 432x288 with 1 Axes>"
            ]
          },
          "metadata": {
            "needs_background": "light"
          }
        }
      ]
    },
    {
      "cell_type": "markdown",
      "metadata": {
        "id": "rDOlQ3ceNHrM"
      },
      "source": [
        "#Predict"
      ]
    },
    {
      "cell_type": "code",
      "metadata": {
        "id": "l5tWD0wBx07p"
      },
      "source": [
        "predict_y = model.predict(test_x)"
      ],
      "execution_count": 103,
      "outputs": []
    },
    {
      "cell_type": "code",
      "metadata": {
        "id": "zBgCtHUWLKS3"
      },
      "source": [
        "test_y_denorm = []\n",
        "pred_denorm = []\n",
        "for i in range(len(test_y)):\n",
        "    test_y_denorm.append(test_y[i]*(np.max(test_df['Close'])-np.min(test_df['Close']))+np.mean(test_df['Close']))\n",
        "    pred_denorm.append(predict_y[i]*(np.max(test_df['Close'])-np.min(test_df['Close']))+np.mean(test_df['Close']))"
      ],
      "execution_count": 104,
      "outputs": []
    },
    {
      "cell_type": "code",
      "metadata": {
        "colab": {
          "base_uri": "https://localhost:8080/"
        },
        "id": "nQ15UiEzNNzz",
        "outputId": "aa7d618d-1ba6-49b4-9e8e-456f9b7f64a0"
      },
      "source": [
        "from sklearn.metrics import mean_squared_error\n",
        "mse = mean_squared_error(test_y_denorm,pred_denorm)\n",
        "print('mse =',mse)"
      ],
      "execution_count": 105,
      "outputs": [
        {
          "output_type": "stream",
          "name": "stdout",
          "text": [
            "mse = 3479.9245251680736\n"
          ]
        }
      ]
    },
    {
      "cell_type": "code",
      "metadata": {
        "colab": {
          "base_uri": "https://localhost:8080/",
          "height": 458
        },
        "id": "Dtzn7Wt9LEM3",
        "outputId": "9dba9f12-026f-4b27-9004-21aefafbdec5"
      },
      "source": [
        "import matplotlib.pyplot as plt \n",
        "plt.figure(figsize = (18,7))\n",
        "plt.plot(test_y_denorm, color = 'red', label = 'Real Price')  # red line is real CLOSE price\n",
        "plt.plot(pred_denorm, color = 'blue', label = 'Predicted Price')  #blue line is predicted price\n",
        "plt.title('Price Prediction of 2021')\n",
        "plt.xlabel('Time')\n",
        "plt.ylabel('Stock Price')\n",
        "plt.legend()\n",
        "plt.show()"
      ],
      "execution_count": 106,
      "outputs": [
        {
          "output_type": "display_data",
          "data": {
            "image/png": "[encoded data removed]",
            "text/plain": [
              "<Figure size 1296x504 with 1 Axes>"
            ]
          },
          "metadata": {
            "needs_background": "light"
          }
        }
      ]
    }
  ]
}